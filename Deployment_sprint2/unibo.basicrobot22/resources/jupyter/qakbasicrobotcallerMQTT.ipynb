{
 "cells": [
  {
   "cell_type": "code",
   "execution_count": null,
   "metadata": {},
   "outputs": [
    {
     "name": "stdout",
     "output_type": "stream",
     "text": [
      "connectAndsubscribeToAnswerTopic to broker  broker.hivemq.com\n",
      "console  STARTS :\n",
      "p\n",
      "console  cmd= p\n",
      "publish via MQTT msg(step,request,python,basicrobot,step(350),1)\n",
      "message received  msg(stepdone,reply,basicrobot,python,stepdone(ok),17)\n",
      "l\n",
      "publish via MQTT msg(cmd,dispatch,python,basicrobot,cmd(l),1)\n",
      "r\n",
      "publish via MQTT msg(cmd,dispatch,python,basicrobot,cmd(r),1)\n"
     ]
    }
   ],
   "source": [
    "###########################################################################\n",
    "# qakbasicrobotcallerMQTT\n",
    "# an 'alien' named as python\n",
    "#\n",
    "# pip install paho-mqtt\n",
    "#\n",
    "# sends a robot-move command as a dispatch or as request using the topic unibo/basicrobot\n",
    "# observes the reply on the topic unibo/qak/python\n",
    "###########################################################################\n",
    "\n",
    "import time\n",
    "import paho.mqtt.client as paho\n",
    " \n",
    "brokerAddr     = \"broker.hivemq.com\"       ##\"broker.hivemq.com\"  localhost\n",
    "robottopic     = \"unibo/basicrobot\"  \n",
    "\n",
    "cmdTemplate    = \"msg(cmd,dispatch,python,basicrobot,cmd(CMDVAL),1)\"\n",
    "stepTemplate   = \"msg(step,request,python,basicrobot,step(TIME),1)\"\n",
    "client         = paho.Client(\"senderPython\")    \n",
    " \n",
    "\n",
    "def init( ) :\n",
    "    connectAndsubscribeToAnswerTopic()      #subscribe before publish\n",
    "    ## subscribeToInfoFromRobot()\n",
    "    \n",
    "def connectAndsubscribeToAnswerTopic() :\n",
    "    client.connect(brokerAddr)              #connect\n",
    "    print(\"connectAndsubscribeToAnswerTopic to broker \", brokerAddr)\n",
    "    client.subscribe(\"unibo/qak/python\", qos=0)\n",
    "    client.on_message=on_message            #attach function to callback\n",
    "    client.loop_start()                     #check for input messages\n",
    "\n",
    "def subscribeToInfoFromRobot() :\n",
    "    infoObserver   = paho.Client(\"observer\")\n",
    "    infoObserver.connect(brokerAddr)              #connect\n",
    "    print(\"subscribeToInfoFromRobot to broker \", brokerAddr)\n",
    "    infoObserver.subscribe(robottopic, qos=0)\n",
    "    infoObserver.on_message=on_message            #attach function to callback\n",
    "    infoObserver.loop_start()                     #check for input messages\n",
    "    \n",
    "def publish( message, topic ) :\n",
    "    print(\"publish via MQTT\", message)\n",
    "    msg = message + \"\\n\"\n",
    "    client.publish(topic, msg)\n",
    "\n",
    "    \n",
    "def on_message(client, userdata, message) :\n",
    "    print(\"message received \" ,str(message.payload.decode(\"utf-8\")))\n",
    "    ## print(\"message topic=\",message.topic)\n",
    "    ## print(\"message qos=\",message.qos)\n",
    "    ## print(\"message retain flag=\",message.retain)\n",
    "       \n",
    "def console() :  \n",
    "    print(\"console  STARTS :\"   )\n",
    "    cmd =  str( input() )\n",
    "    print(\"console  cmd=\" , cmd  )\n",
    "    while( cmd != \"q\"  ) :\n",
    "        if( cmd == \"p\") :\n",
    "            msgDispatch = stepTemplate.replace(\"TIME\", \"350\")\n",
    "        else : \n",
    "            msgDispatch = cmdTemplate.replace(\"CMDVAL\", cmd)   \n",
    "        publish( msgDispatch, robottopic )\n",
    "        cmd =  str(input())\n",
    "################################################# \n",
    "##client.connect(brokerAddr)  \n",
    "init( )\n",
    "console()"
   ]
  },
  {
   "cell_type": "code",
   "execution_count": null,
   "metadata": {},
   "outputs": [],
   "source": []
  }
 ],
 "metadata": {
  "kernelspec": {
   "display_name": "Python 3",
   "language": "python",
   "name": "python3"
  },
  "language_info": {
   "codemirror_mode": {
    "name": "ipython",
    "version": 3
   },
   "file_extension": ".py",
   "mimetype": "text/x-python",
   "name": "python",
   "nbconvert_exporter": "python",
   "pygments_lexer": "ipython3",
   "version": "3.8.8"
  }
 },
 "nbformat": 4,
 "nbformat_minor": 2
}
